{
  "nbformat": 4,
  "nbformat_minor": 0,
  "metadata": {
    "colab": {
      "provenance": [],
      "authorship_tag": "ABX9TyMrHWKfcaPV9eFi5NCTQ6q8",
      "include_colab_link": true
    },
    "kernelspec": {
      "name": "python3",
      "display_name": "Python 3"
    },
    "language_info": {
      "name": "python"
    }
  },
  "cells": [
    {
      "cell_type": "markdown",
      "metadata": {
        "id": "view-in-github",
        "colab_type": "text"
      },
      "source": [
        "<a href=\"https://colab.research.google.com/github/Hanifanta/Logistic-Regression-pyspark/blob/main/BDL_Regresi.ipynb\" target=\"_parent\"><img src=\"https://colab.research.google.com/assets/colab-badge.svg\" alt=\"Open In Colab\"/></a>"
      ]
    },
    {
      "cell_type": "markdown",
      "source": [
        "## **Import pyspark**"
      ],
      "metadata": {
        "id": "mnWkg8Wlhlqf"
      }
    },
    {
      "cell_type": "code",
      "execution_count": null,
      "metadata": {
        "id": "foGKcMN7hfdk"
      },
      "outputs": [],
      "source": [
        "!apt-get install openjdk-8-jdk-headless -qq > /dev/null\n",
        "!wget -q https://archive.apache.org/dist/spark/spark-3.0.0/spark-3.0.0-bin-hadoop3.2.tgz\n",
        "!tar xf spark-3.0.0-bin-hadoop3.2.tgz\n",
        "\n",
        "!pip install -q findspark\n",
        "\n",
        "import os\n",
        "os.environ[\"JAVA_HOME\"] = \"/usr/lib/jvm/java-8-openjdk-amd64\"\n",
        "os.environ[\"SPARK_HOME\"] = \"/content/spark-3.0.0-bin-hadoop3.2\"\n",
        "\n",
        "!pip install pyspark"
      ]
    },
    {
      "cell_type": "code",
      "source": [
        "from pyspark import SparkContext\n",
        "from pyspark.sql import SparkSession\n",
        "spark = SparkSession.builder.appName(\"spark\").getOrCreate()"
      ],
      "metadata": {
        "id": "Tg-bY-OOhpwi"
      },
      "execution_count": null,
      "outputs": []
    },
    {
      "cell_type": "markdown",
      "source": [
        "## **Load dataset**\n",
        "\n",
        "Dataset :\n",
        "\n",
        "https://www.kaggle.com/datasets/akshaydattatraykhare/diabetes-dataset"
      ],
      "metadata": {
        "id": "eTzurpOXochs"
      }
    },
    {
      "cell_type": "code",
      "source": [
        "# membuat spark dataframe\n",
        "df = spark.read.csv('/content/diabetes.csv', header=True, inferSchema = True)"
      ],
      "metadata": {
        "id": "T7wMI7HSjR0d"
      },
      "execution_count": null,
      "outputs": []
    },
    {
      "cell_type": "markdown",
      "source": [
        "## **Exploratory Data Analysis**"
      ],
      "metadata": {
        "id": "ikZxAupVpDj_"
      }
    },
    {
      "cell_type": "code",
      "source": [
        "# menampilkan isi dataframe\n",
        "df.show()"
      ],
      "metadata": {
        "colab": {
          "base_uri": "https://localhost:8080/"
        },
        "id": "Ud09kIXWoric",
        "outputId": "370bb541-8890-424a-a7b6-d24922e15b26"
      },
      "execution_count": null,
      "outputs": [
        {
          "output_type": "stream",
          "name": "stdout",
          "text": [
            "+-----------+-------+-------------+-------------+-------+----+------------------------+---+-------+\n",
            "|Pregnancies|Glucose|BloodPressure|SkinThickness|Insulin| BMI|DiabetesPedigreeFunction|Age|Outcome|\n",
            "+-----------+-------+-------------+-------------+-------+----+------------------------+---+-------+\n",
            "|          6|    148|           72|           35|      0|33.6|                   0.627| 50|      1|\n",
            "|          1|     85|           66|           29|      0|26.6|                   0.351| 31|      0|\n",
            "|          8|    183|           64|            0|      0|23.3|                   0.672| 32|      1|\n",
            "|          1|     89|           66|           23|     94|28.1|                   0.167| 21|      0|\n",
            "|          0|    137|           40|           35|    168|43.1|                   2.288| 33|      1|\n",
            "|          5|    116|           74|            0|      0|25.6|                   0.201| 30|      0|\n",
            "|          3|     78|           50|           32|     88|31.0|                   0.248| 26|      1|\n",
            "|         10|    115|            0|            0|      0|35.3|                   0.134| 29|      0|\n",
            "|          2|    197|           70|           45|    543|30.5|                   0.158| 53|      1|\n",
            "|          8|    125|           96|            0|      0| 0.0|                   0.232| 54|      1|\n",
            "|          4|    110|           92|            0|      0|37.6|                   0.191| 30|      0|\n",
            "|         10|    168|           74|            0|      0|38.0|                   0.537| 34|      1|\n",
            "|         10|    139|           80|            0|      0|27.1|                   1.441| 57|      0|\n",
            "|          1|    189|           60|           23|    846|30.1|                   0.398| 59|      1|\n",
            "|          5|    166|           72|           19|    175|25.8|                   0.587| 51|      1|\n",
            "|          7|    100|            0|            0|      0|30.0|                   0.484| 32|      1|\n",
            "|          0|    118|           84|           47|    230|45.8|                   0.551| 31|      1|\n",
            "|          7|    107|           74|            0|      0|29.6|                   0.254| 31|      1|\n",
            "|          1|    103|           30|           38|     83|43.3|                   0.183| 33|      0|\n",
            "|          1|    115|           70|           30|     96|34.6|                   0.529| 32|      1|\n",
            "+-----------+-------+-------------+-------------+-------+----+------------------------+---+-------+\n",
            "only showing top 20 rows\n",
            "\n"
          ]
        }
      ]
    },
    {
      "cell_type": "code",
      "source": [
        "# menampilkan schema dari dataframe\n",
        "df.printSchema()"
      ],
      "metadata": {
        "colab": {
          "base_uri": "https://localhost:8080/"
        },
        "id": "-EOg5cRio81t",
        "outputId": "afe84c06-175b-4ea5-f4f6-c067fbbd895c"
      },
      "execution_count": null,
      "outputs": [
        {
          "output_type": "stream",
          "name": "stdout",
          "text": [
            "root\n",
            " |-- Pregnancies: integer (nullable = true)\n",
            " |-- Glucose: integer (nullable = true)\n",
            " |-- BloodPressure: integer (nullable = true)\n",
            " |-- SkinThickness: integer (nullable = true)\n",
            " |-- Insulin: integer (nullable = true)\n",
            " |-- BMI: double (nullable = true)\n",
            " |-- DiabetesPedigreeFunction: double (nullable = true)\n",
            " |-- Age: integer (nullable = true)\n",
            " |-- Outcome: integer (nullable = true)\n",
            "\n"
          ]
        }
      ]
    },
    {
      "cell_type": "code",
      "source": [
        "# menghitung total class diabetes atau tidak diabetes dari kolom 'Outcome'\n",
        "print(df.count(), len(df.columns))\n",
        "df.groupBy('Outcome').count().show()"
      ],
      "metadata": {
        "colab": {
          "base_uri": "https://localhost:8080/"
        },
        "id": "G0Hm5GappJ-H",
        "outputId": "d037d19c-8fa4-42bf-9f2e-a4de8ef65618"
      },
      "execution_count": null,
      "outputs": [
        {
          "output_type": "stream",
          "name": "stdout",
          "text": [
            "768 9\n",
            "+-------+-----+\n",
            "|Outcome|count|\n",
            "+-------+-----+\n",
            "|      1|  268|\n",
            "|      0|  500|\n",
            "+-------+-----+\n",
            "\n"
          ]
        }
      ]
    },
    {
      "cell_type": "code",
      "source": [
        "# melihat statistik dari dataframe yang digunakan\n",
        "df.describe().show()"
      ],
      "metadata": {
        "colab": {
          "base_uri": "https://localhost:8080/"
        },
        "id": "eT8_2wFNpcsJ",
        "outputId": "89b13e75-0fce-403e-f428-d41663a7fc3d"
      },
      "execution_count": null,
      "outputs": [
        {
          "output_type": "stream",
          "name": "stdout",
          "text": [
            "+-------+------------------+-----------------+------------------+------------------+------------------+------------------+------------------------+------------------+------------------+\n",
            "|summary|       Pregnancies|          Glucose|     BloodPressure|     SkinThickness|           Insulin|               BMI|DiabetesPedigreeFunction|               Age|           Outcome|\n",
            "+-------+------------------+-----------------+------------------+------------------+------------------+------------------+------------------------+------------------+------------------+\n",
            "|  count|               768|              768|               768|               768|               768|               768|                     768|               768|               768|\n",
            "|   mean|3.8450520833333335|     120.89453125|       69.10546875|20.536458333333332| 79.79947916666667|31.992578124999977|      0.4718763020833327|33.240885416666664|0.3489583333333333|\n",
            "| stddev|  3.36957806269887|31.97261819513622|19.355807170644777|15.952217567727642|115.24400235133803| 7.884160320375441|       0.331328595012775|11.760231540678689| 0.476951377242799|\n",
            "|    min|                 0|                0|                 0|                 0|                 0|               0.0|                   0.078|                21|                 0|\n",
            "|    max|                17|              199|               122|                99|               846|              67.1|                    2.42|                81|                 1|\n",
            "+-------+------------------+-----------------+------------------+------------------+------------------+------------------+------------------------+------------------+------------------+\n",
            "\n"
          ]
        }
      ]
    },
    {
      "cell_type": "code",
      "source": [
        "# melihat data null pada kolom\n",
        "for col in df.columns:\n",
        "  print(col+\":\",df[df[col].isNull()].count())"
      ],
      "metadata": {
        "colab": {
          "base_uri": "https://localhost:8080/"
        },
        "id": "xso53Ua8pghr",
        "outputId": "08098bd8-e21b-4881-bf02-63291eb9763b"
      },
      "execution_count": null,
      "outputs": [
        {
          "output_type": "stream",
          "name": "stdout",
          "text": [
            "Pregnancies: 0\n",
            "Glucose: 0\n",
            "BloodPressure: 0\n",
            "SkinThickness: 0\n",
            "Insulin: 0\n",
            "BMI: 0\n",
            "DiabetesPedigreeFunction: 0\n",
            "Age: 0\n",
            "Outcome: 0\n"
          ]
        }
      ]
    },
    {
      "cell_type": "code",
      "source": [
        "# melihat nilai 0 pada setiap kolom\n",
        "def count_zeros():\n",
        "  columns_list = ['Glucose','BloodPressure','SkinThickness','Insulin','BMI']\n",
        "  for i in columns_list:\n",
        "    print(i+\":\",df[df[i]==0].count())"
      ],
      "metadata": {
        "id": "CIOEaVhgpknb"
      },
      "execution_count": null,
      "outputs": []
    },
    {
      "cell_type": "code",
      "source": [
        "count_zeros()"
      ],
      "metadata": {
        "colab": {
          "base_uri": "https://localhost:8080/"
        },
        "id": "24J15nZhpvIQ",
        "outputId": "4d22d70d-6961-482a-d064-f14a5d8759a0"
      },
      "execution_count": null,
      "outputs": [
        {
          "output_type": "stream",
          "name": "stdout",
          "text": [
            "Glucose: 5\n",
            "BloodPressure: 35\n",
            "SkinThickness: 227\n",
            "Insulin: 374\n",
            "BMI: 11\n"
          ]
        }
      ]
    },
    {
      "cell_type": "code",
      "source": [
        "# mengganti nilai 0 dengan nilai rata-rata\n",
        "from pyspark.sql.functions import *\n",
        "for i in df.columns[1:6]:\n",
        "  data = df.agg({i:'mean'}).first()[0]\n",
        "  print(\"mean value for {} is {}\".format(i,int(data)))\n",
        "  df = df.withColumn(i,when(df[i]==0,int(data)).otherwise(df[i]))"
      ],
      "metadata": {
        "colab": {
          "base_uri": "https://localhost:8080/"
        },
        "id": "O1c5Pw25pzAB",
        "outputId": "d9373a80-4e88-4af7-8903-abd323558bbc"
      },
      "execution_count": null,
      "outputs": [
        {
          "output_type": "stream",
          "name": "stdout",
          "text": [
            "mean value for Glucose is 120\n",
            "mean value for BloodPressure is 69\n",
            "mean value for SkinThickness is 20\n",
            "mean value for Insulin is 79\n",
            "mean value for BMI is 31\n"
          ]
        }
      ]
    },
    {
      "cell_type": "code",
      "source": [
        "# melihat dataframe kembali\n",
        "df.show()"
      ],
      "metadata": {
        "colab": {
          "base_uri": "https://localhost:8080/"
        },
        "id": "WBUliEPMp5Vk",
        "outputId": "a99e14be-23a5-4e26-940e-c3b8ffd159f4"
      },
      "execution_count": null,
      "outputs": [
        {
          "output_type": "stream",
          "name": "stdout",
          "text": [
            "+-----------+-------+-------------+-------------+-------+----+------------------------+---+-------+\n",
            "|Pregnancies|Glucose|BloodPressure|SkinThickness|Insulin| BMI|DiabetesPedigreeFunction|Age|Outcome|\n",
            "+-----------+-------+-------------+-------------+-------+----+------------------------+---+-------+\n",
            "|          6|    148|           72|           35|     79|33.6|                   0.627| 50|      1|\n",
            "|          1|     85|           66|           29|     79|26.6|                   0.351| 31|      0|\n",
            "|          8|    183|           64|           20|     79|23.3|                   0.672| 32|      1|\n",
            "|          1|     89|           66|           23|     94|28.1|                   0.167| 21|      0|\n",
            "|          0|    137|           40|           35|    168|43.1|                   2.288| 33|      1|\n",
            "|          5|    116|           74|           20|     79|25.6|                   0.201| 30|      0|\n",
            "|          3|     78|           50|           32|     88|31.0|                   0.248| 26|      1|\n",
            "|         10|    115|           69|           20|     79|35.3|                   0.134| 29|      0|\n",
            "|          2|    197|           70|           45|    543|30.5|                   0.158| 53|      1|\n",
            "|          8|    125|           96|           20|     79|31.0|                   0.232| 54|      1|\n",
            "|          4|    110|           92|           20|     79|37.6|                   0.191| 30|      0|\n",
            "|         10|    168|           74|           20|     79|38.0|                   0.537| 34|      1|\n",
            "|         10|    139|           80|           20|     79|27.1|                   1.441| 57|      0|\n",
            "|          1|    189|           60|           23|    846|30.1|                   0.398| 59|      1|\n",
            "|          5|    166|           72|           19|    175|25.8|                   0.587| 51|      1|\n",
            "|          7|    100|           69|           20|     79|30.0|                   0.484| 32|      1|\n",
            "|          0|    118|           84|           47|    230|45.8|                   0.551| 31|      1|\n",
            "|          7|    107|           74|           20|     79|29.6|                   0.254| 31|      1|\n",
            "|          1|    103|           30|           38|     83|43.3|                   0.183| 33|      0|\n",
            "|          1|    115|           70|           30|     96|34.6|                   0.529| 32|      1|\n",
            "+-----------+-------+-------------+-------------+-------+----+------------------------+---+-------+\n",
            "only showing top 20 rows\n",
            "\n"
          ]
        }
      ]
    },
    {
      "cell_type": "markdown",
      "source": [
        "### **Correlation**"
      ],
      "metadata": {
        "id": "0ZheRxX-qJxK"
      }
    },
    {
      "cell_type": "code",
      "source": [
        "# mencari korelasi di antara sekumpulan variabel input & output\n",
        "for i in df.columns:\n",
        "  print(\"Korelasi untuk kolom outcome dari kolom {} adalah : {}\".format(i,df.stat.corr('Outcome',i)))"
      ],
      "metadata": {
        "colab": {
          "base_uri": "https://localhost:8080/"
        },
        "id": "sUO-meQep8pL",
        "outputId": "f747f943-2790-4b31-a514-4869cb5b43ea"
      },
      "execution_count": null,
      "outputs": [
        {
          "output_type": "stream",
          "name": "stdout",
          "text": [
            "Korelasi untuk kolom outcome dari kolom Pregnancies adalah : 0.22189815303398638\n",
            "Korelasi untuk kolom outcome dari kolom Glucose adalah : 0.49288410274882094\n",
            "Korelasi untuk kolom outcome dari kolom BloodPressure adalah : 0.16287909949861834\n",
            "Korelasi untuk kolom outcome dari kolom SkinThickness adalah : 0.171856814176564\n",
            "Korelasi untuk kolom outcome dari kolom Insulin adalah : 0.17869558803050842\n",
            "Korelasi untuk kolom outcome dari kolom BMI adalah : 0.31289043493401536\n",
            "Korelasi untuk kolom outcome dari kolom DiabetesPedigreeFunction adalah : 0.17384406565296007\n",
            "Korelasi untuk kolom outcome dari kolom Age adalah : 0.23835598302719757\n",
            "Korelasi untuk kolom outcome dari kolom Outcome adalah : 1.0\n"
          ]
        }
      ]
    },
    {
      "cell_type": "markdown",
      "source": [
        "### **Feature Selection**"
      ],
      "metadata": {
        "id": "IcSFLNGvqFk5"
      }
    },
    {
      "cell_type": "markdown",
      "source": [
        "Memilih fitur yang digunakan untuk modeling yaitu\n",
        "\n",
        "**['Pregnancies','Glucose','BloodPressure','SkinThickness','Insulin','BMI','DiabetesPedigreeFunction','Age']**"
      ],
      "metadata": {
        "id": "YWiDWuUnqcrL"
      }
    },
    {
      "cell_type": "code",
      "source": [
        "# feature selection\n",
        "from pyspark.ml.feature import VectorAssembler\n",
        "assembler = VectorAssembler(inputCols=['Pregnancies','Glucose','BloodPressure','SkinThickness','Insulin','BMI','DiabetesPedigreeFunction','Age'],outputCol='features')\n",
        "output_data = assembler.transform(df)"
      ],
      "metadata": {
        "id": "7k54TQujqD22"
      },
      "execution_count": null,
      "outputs": []
    },
    {
      "cell_type": "code",
      "source": [
        "# menampilkan schema feature selection\n",
        "output_data.printSchema()"
      ],
      "metadata": {
        "colab": {
          "base_uri": "https://localhost:8080/"
        },
        "id": "6dquKTk4qbOk",
        "outputId": "2fa4031e-4eda-4278-e412-ca143f3a850c"
      },
      "execution_count": null,
      "outputs": [
        {
          "output_type": "stream",
          "name": "stdout",
          "text": [
            "root\n",
            " |-- Pregnancies: integer (nullable = true)\n",
            " |-- Glucose: integer (nullable = true)\n",
            " |-- BloodPressure: integer (nullable = true)\n",
            " |-- SkinThickness: integer (nullable = true)\n",
            " |-- Insulin: integer (nullable = true)\n",
            " |-- BMI: double (nullable = true)\n",
            " |-- DiabetesPedigreeFunction: double (nullable = true)\n",
            " |-- Age: integer (nullable = true)\n",
            " |-- Outcome: integer (nullable = true)\n",
            " |-- features: vector (nullable = true)\n",
            "\n"
          ]
        }
      ]
    },
    {
      "cell_type": "code",
      "source": [
        "# menampilkan dataframe feature selection\n",
        "output_data.show()"
      ],
      "metadata": {
        "colab": {
          "base_uri": "https://localhost:8080/"
        },
        "id": "hoFC2gE3qrJ1",
        "outputId": "838077b3-f378-4d8e-c0a8-c5e5e2ede44e"
      },
      "execution_count": null,
      "outputs": [
        {
          "output_type": "stream",
          "name": "stdout",
          "text": [
            "+-----------+-------+-------------+-------------+-------+----+------------------------+---+-------+--------------------+\n",
            "|Pregnancies|Glucose|BloodPressure|SkinThickness|Insulin| BMI|DiabetesPedigreeFunction|Age|Outcome|            features|\n",
            "+-----------+-------+-------------+-------------+-------+----+------------------------+---+-------+--------------------+\n",
            "|          6|    148|           72|           35|     79|33.6|                   0.627| 50|      1|[6.0,148.0,72.0,3...|\n",
            "|          1|     85|           66|           29|     79|26.6|                   0.351| 31|      0|[1.0,85.0,66.0,29...|\n",
            "|          8|    183|           64|           20|     79|23.3|                   0.672| 32|      1|[8.0,183.0,64.0,2...|\n",
            "|          1|     89|           66|           23|     94|28.1|                   0.167| 21|      0|[1.0,89.0,66.0,23...|\n",
            "|          0|    137|           40|           35|    168|43.1|                   2.288| 33|      1|[0.0,137.0,40.0,3...|\n",
            "|          5|    116|           74|           20|     79|25.6|                   0.201| 30|      0|[5.0,116.0,74.0,2...|\n",
            "|          3|     78|           50|           32|     88|31.0|                   0.248| 26|      1|[3.0,78.0,50.0,32...|\n",
            "|         10|    115|           69|           20|     79|35.3|                   0.134| 29|      0|[10.0,115.0,69.0,...|\n",
            "|          2|    197|           70|           45|    543|30.5|                   0.158| 53|      1|[2.0,197.0,70.0,4...|\n",
            "|          8|    125|           96|           20|     79|31.0|                   0.232| 54|      1|[8.0,125.0,96.0,2...|\n",
            "|          4|    110|           92|           20|     79|37.6|                   0.191| 30|      0|[4.0,110.0,92.0,2...|\n",
            "|         10|    168|           74|           20|     79|38.0|                   0.537| 34|      1|[10.0,168.0,74.0,...|\n",
            "|         10|    139|           80|           20|     79|27.1|                   1.441| 57|      0|[10.0,139.0,80.0,...|\n",
            "|          1|    189|           60|           23|    846|30.1|                   0.398| 59|      1|[1.0,189.0,60.0,2...|\n",
            "|          5|    166|           72|           19|    175|25.8|                   0.587| 51|      1|[5.0,166.0,72.0,1...|\n",
            "|          7|    100|           69|           20|     79|30.0|                   0.484| 32|      1|[7.0,100.0,69.0,2...|\n",
            "|          0|    118|           84|           47|    230|45.8|                   0.551| 31|      1|[0.0,118.0,84.0,4...|\n",
            "|          7|    107|           74|           20|     79|29.6|                   0.254| 31|      1|[7.0,107.0,74.0,2...|\n",
            "|          1|    103|           30|           38|     83|43.3|                   0.183| 33|      0|[1.0,103.0,30.0,3...|\n",
            "|          1|    115|           70|           30|     96|34.6|                   0.529| 32|      1|[1.0,115.0,70.0,3...|\n",
            "+-----------+-------+-------------+-------------+-------+----+------------------------+---+-------+--------------------+\n",
            "only showing top 20 rows\n",
            "\n"
          ]
        }
      ]
    },
    {
      "cell_type": "code",
      "source": [
        "# membuat dataframe baru untuk dataframe 'features' dan 'Outcome'\n",
        "from pyspark.ml.classification import LogisticRegression\n",
        "final_data = output_data.select('features','Outcome')"
      ],
      "metadata": {
        "id": "pcEf8xKoqu6l"
      },
      "execution_count": null,
      "outputs": []
    },
    {
      "cell_type": "code",
      "source": [
        "# menampilkan schema 'final_data'\n",
        "final_data.printSchema()"
      ],
      "metadata": {
        "colab": {
          "base_uri": "https://localhost:8080/"
        },
        "id": "FKmsiV3Cq3lA",
        "outputId": "e71fe537-073f-419c-f04d-9fa186720391"
      },
      "execution_count": null,
      "outputs": [
        {
          "output_type": "stream",
          "name": "stdout",
          "text": [
            "root\n",
            " |-- features: vector (nullable = true)\n",
            " |-- Outcome: integer (nullable = true)\n",
            "\n"
          ]
        }
      ]
    },
    {
      "cell_type": "markdown",
      "source": [
        "## **Split dataset**"
      ],
      "metadata": {
        "id": "oHNw-6-orAde"
      }
    },
    {
      "cell_type": "code",
      "source": [
        "#split the dataset\n",
        "train, test = final_data.randomSplit([0.7,0.3])"
      ],
      "metadata": {
        "id": "kihmLBgfq7Zm"
      },
      "execution_count": null,
      "outputs": []
    },
    {
      "cell_type": "markdown",
      "source": [
        "## **Modeling**\n",
        "\n",
        "Pada modeling ini, kami menggunakan LogisticRegression untuk melakukan prediksi pasien diabetes atau tidak diabetes."
      ],
      "metadata": {
        "id": "3oXd626XrGCR"
      }
    },
    {
      "cell_type": "code",
      "source": [
        "models = LogisticRegression(labelCol='Outcome')\n",
        "model = models.fit(train)"
      ],
      "metadata": {
        "id": "Dw-twBworEzw"
      },
      "execution_count": null,
      "outputs": []
    },
    {
      "cell_type": "code",
      "source": [
        "# melihat hasil dari modeling\n",
        "summary = model.summary\n",
        "summary.predictions.describe().show()"
      ],
      "metadata": {
        "colab": {
          "base_uri": "https://localhost:8080/"
        },
        "id": "CeRlycw7rIxL",
        "outputId": "3148fa8a-f877-4ce8-f095-fc842eee2f48"
      },
      "execution_count": null,
      "outputs": [
        {
          "output_type": "stream",
          "name": "stdout",
          "text": [
            "+-------+------------------+-------------------+\n",
            "|summary|           Outcome|         prediction|\n",
            "+-------+------------------+-------------------+\n",
            "|  count|               542|                542|\n",
            "|   mean|0.3505535055350554| 0.2822878228782288|\n",
            "| stddev|0.4775840964904406|0.45052846992996176|\n",
            "|    min|               0.0|                0.0|\n",
            "|    max|               1.0|                1.0|\n",
            "+-------+------------------+-------------------+\n",
            "\n"
          ]
        }
      ]
    },
    {
      "cell_type": "markdown",
      "source": [
        "## **Model Evaluation**"
      ],
      "metadata": {
        "id": "37Btrh2TrV46"
      }
    },
    {
      "cell_type": "code",
      "source": [
        "# evaluasi model menggunakan 'BinaryClassificationEvaluator'\n",
        "from pyspark.ml.evaluation import BinaryClassificationEvaluator\n",
        "predictions = model.evaluate(test)"
      ],
      "metadata": {
        "id": "VT0HXpO4rTc4"
      },
      "execution_count": null,
      "outputs": []
    },
    {
      "cell_type": "code",
      "source": [
        "predictions.predictions.show(20)"
      ],
      "metadata": {
        "colab": {
          "base_uri": "https://localhost:8080/"
        },
        "id": "pmsK-7QWrkDO",
        "outputId": "74eed692-9505-4f23-884b-b2b571c1a0a6"
      },
      "execution_count": null,
      "outputs": [
        {
          "output_type": "stream",
          "name": "stdout",
          "text": [
            "+--------------------+-------+--------------------+--------------------+----------+\n",
            "|            features|Outcome|       rawPrediction|         probability|prediction|\n",
            "+--------------------+-------+--------------------+--------------------+----------+\n",
            "|[0.0,67.0,76.0,20...|      0|[2.77625916267863...|[0.94137934961120...|       0.0|\n",
            "|[0.0,74.0,52.0,10...|      0|[4.04344191916773...|[0.98276523868226...|       0.0|\n",
            "|[0.0,86.0,68.0,32...|      0|[2.78115304630996...|[0.94164883236902...|       0.0|\n",
            "|[0.0,91.0,68.0,32...|      0|[2.37239863200590...|[0.91469820105114...|       0.0|\n",
            "|[0.0,94.0,70.0,27...|      0|[1.71615517296890...|[0.84763293519777...|       0.0|\n",
            "|[0.0,99.0,69.0,20...|      0|[3.49130752176337...|[0.97043942744512...|       0.0|\n",
            "|[0.0,101.0,64.0,1...|      0|[3.80637448286474...|[0.97825474381092...|       0.0|\n",
            "|[0.0,101.0,65.0,2...|      0|[3.33269853324334...|[0.96553368545205...|       0.0|\n",
            "|[0.0,107.0,60.0,2...|      0|[2.98188382096029...|[0.95174895542512...|       0.0|\n",
            "|[0.0,107.0,76.0,2...|      0|[0.59832878580835...|[0.64527386575056...|       0.0|\n",
            "|[0.0,119.0,66.0,2...|      0|[1.07851935349662...|[0.74621368248263...|       0.0|\n",
            "|[0.0,119.0,69.0,2...|      1|[1.98379870792643...|[0.87908552440577...|       0.0|\n",
            "|[0.0,121.0,66.0,3...|      1|[1.70195211254582...|[0.84578952009438...|       0.0|\n",
            "|[0.0,123.0,72.0,2...|      1|[1.16777343686198...|[0.76274231819552...|       0.0|\n",
            "|[0.0,124.0,56.0,1...|      0|[2.54048218763858...|[0.92693149162982...|       0.0|\n",
            "|[0.0,125.0,96.0,2...|      0|[2.93197200598945...|[0.94940448556915...|       0.0|\n",
            "|[0.0,128.0,68.0,1...|      1|[0.64763738123446...|[0.65647785460785...|       0.0|\n",
            "|[0.0,129.0,110.0,...|      1|[-1.9559740913433...|[0.12390340409697...|       1.0|\n",
            "|[0.0,131.0,88.0,2...|      1|[1.02617375630025...|[0.73617342654220...|       0.0|\n",
            "|[0.0,134.0,58.0,2...|      0|[2.25940838495014...|[0.90545899917356...|       0.0|\n",
            "+--------------------+-------+--------------------+--------------------+----------+\n",
            "only showing top 20 rows\n",
            "\n"
          ]
        }
      ]
    },
    {
      "cell_type": "code",
      "source": [
        "# menampilkan akurasi model\n",
        "evaluator = BinaryClassificationEvaluator(rawPredictionCol='rawPrediction',labelCol='Outcome')\n",
        "print('Model Accuracy:',format(evaluator.evaluate(model.transform(test))))"
      ],
      "metadata": {
        "colab": {
          "base_uri": "https://localhost:8080/"
        },
        "id": "Aqd-HYsIrme4",
        "outputId": "8a0b6e4b-13ca-49e1-eb65-a398bc84ff2d"
      },
      "execution_count": null,
      "outputs": [
        {
          "output_type": "stream",
          "name": "stdout",
          "text": [
            "Model Accuracy: 0.8119369369369378\n"
          ]
        }
      ]
    },
    {
      "cell_type": "markdown",
      "source": [
        "Akurasi model yang dihasilkan adalah 0.81, yang artinya untuk modeling menggunakan LogisticRegression kali ini cukup baik."
      ],
      "metadata": {
        "id": "u4ZH-qe7r2kx"
      }
    },
    {
      "cell_type": "code",
      "source": [
        "# Menyimpan hasil model yang sudah dibuat\n",
        "model.save('model')"
      ],
      "metadata": {
        "id": "9mHKXwS9snrW"
      },
      "execution_count": null,
      "outputs": []
    },
    {
      "cell_type": "markdown",
      "source": [
        "## **Model Testing**"
      ],
      "metadata": {
        "id": "mP4GOjdLsLvR"
      }
    },
    {
      "cell_type": "code",
      "source": [
        "# membuka model yang sudah dibuat\n",
        "from pyspark.ml.classification import LogisticRegressionModel\n",
        "model = LogisticRegressionModel.load('model')"
      ],
      "metadata": {
        "id": "_Nh9-n-1sP41"
      },
      "execution_count": null,
      "outputs": []
    },
    {
      "cell_type": "code",
      "source": [
        "# membuat spark dataframe baru untuk testing\n",
        "testing = spark.read.csv('/content/data_testing.csv',header=True, inferSchema =True)"
      ],
      "metadata": {
        "id": "8asZuh__stsy"
      },
      "execution_count": null,
      "outputs": []
    },
    {
      "cell_type": "code",
      "source": [
        "# menampilkan schema dari dataframe\n",
        "testing.printSchema()"
      ],
      "metadata": {
        "colab": {
          "base_uri": "https://localhost:8080/"
        },
        "id": "dUM_YnWgszlV",
        "outputId": "234eea62-78f0-458b-a27e-ffef585cae67"
      },
      "execution_count": null,
      "outputs": [
        {
          "output_type": "stream",
          "name": "stdout",
          "text": [
            "root\n",
            " |-- Pregnancies: integer (nullable = true)\n",
            " |-- Glucose: integer (nullable = true)\n",
            " |-- BloodPressure: integer (nullable = true)\n",
            " |-- SkinThickness: integer (nullable = true)\n",
            " |-- Insulin: integer (nullable = true)\n",
            " |-- BMI: double (nullable = true)\n",
            " |-- DiabetesPedigreeFunction: double (nullable = true)\n",
            " |-- Age: integer (nullable = true)\n",
            "\n"
          ]
        }
      ]
    },
    {
      "cell_type": "code",
      "source": [
        "# membuat kolom gabungan fitur tambahan \n",
        "test_data = assembler.transform(testing)"
      ],
      "metadata": {
        "id": "fJ9mDlFrs3-Z"
      },
      "execution_count": null,
      "outputs": []
    },
    {
      "cell_type": "code",
      "source": [
        "# menampilkan schema\n",
        "test_data.printSchema()"
      ],
      "metadata": {
        "colab": {
          "base_uri": "https://localhost:8080/"
        },
        "id": "BsXcNItcs_A0",
        "outputId": "7de18618-c29c-4778-8c38-3cd7b49f9dd5"
      },
      "execution_count": null,
      "outputs": [
        {
          "output_type": "stream",
          "name": "stdout",
          "text": [
            "root\n",
            " |-- Pregnancies: integer (nullable = true)\n",
            " |-- Glucose: integer (nullable = true)\n",
            " |-- BloodPressure: integer (nullable = true)\n",
            " |-- SkinThickness: integer (nullable = true)\n",
            " |-- Insulin: integer (nullable = true)\n",
            " |-- BMI: double (nullable = true)\n",
            " |-- DiabetesPedigreeFunction: double (nullable = true)\n",
            " |-- Age: integer (nullable = true)\n",
            " |-- features: vector (nullable = true)\n",
            "\n"
          ]
        }
      ]
    },
    {
      "cell_type": "code",
      "source": [
        "# menggunakan model yang sudah disimpan untuk membuat prediksi\n",
        "results = model.transform(test_data)\n",
        "results.printSchema()"
      ],
      "metadata": {
        "colab": {
          "base_uri": "https://localhost:8080/"
        },
        "id": "yIJ6E2_HtB-8",
        "outputId": "4415c1f7-594f-46ca-a812-a1786fd4e341"
      },
      "execution_count": null,
      "outputs": [
        {
          "output_type": "stream",
          "name": "stdout",
          "text": [
            "root\n",
            " |-- Pregnancies: integer (nullable = true)\n",
            " |-- Glucose: integer (nullable = true)\n",
            " |-- BloodPressure: integer (nullable = true)\n",
            " |-- SkinThickness: integer (nullable = true)\n",
            " |-- Insulin: integer (nullable = true)\n",
            " |-- BMI: double (nullable = true)\n",
            " |-- DiabetesPedigreeFunction: double (nullable = true)\n",
            " |-- Age: integer (nullable = true)\n",
            " |-- features: vector (nullable = true)\n",
            " |-- rawPrediction: vector (nullable = true)\n",
            " |-- probability: vector (nullable = true)\n",
            " |-- prediction: double (nullable = false)\n",
            "\n"
          ]
        }
      ]
    },
    {
      "cell_type": "code",
      "source": [
        "# menampilkan hasil prediksi\n",
        "results.select('features','prediction').show()"
      ],
      "metadata": {
        "colab": {
          "base_uri": "https://localhost:8080/"
        },
        "id": "03qLN_3ftHdu",
        "outputId": "7d0a526f-3ebb-4227-d843-ea3ef063b447"
      },
      "execution_count": null,
      "outputs": [
        {
          "output_type": "stream",
          "name": "stdout",
          "text": [
            "+--------------------+----------+\n",
            "|            features|prediction|\n",
            "+--------------------+----------+\n",
            "|[1.0,190.0,78.0,3...|       1.0|\n",
            "|[0.0,80.0,84.0,36...|       0.0|\n",
            "|[2.0,138.0,82.0,4...|       1.0|\n",
            "|[1.0,110.0,63.0,4...|       1.0|\n",
            "+--------------------+----------+\n",
            "\n"
          ]
        }
      ]
    },
    {
      "cell_type": "markdown",
      "source": [
        "Diatas adalah hasil prediksi dari data yang kami buat untuk melakukan testing pada model yang sudah kami buat. terlihat prediksi diatas menunjukan angka 1 dan 0, yang artinya angka 1 adalah diabetes, dan angka 0 adalah tidak diabetes."
      ],
      "metadata": {
        "id": "K17QYHt1tRxf"
      }
    }
  ]
}